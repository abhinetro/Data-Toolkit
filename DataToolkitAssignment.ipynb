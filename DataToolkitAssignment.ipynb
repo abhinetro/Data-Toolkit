{
  "nbformat": 4,
  "nbformat_minor": 0,
  "metadata": {
    "colab": {
      "provenance": []
    },
    "kernelspec": {
      "name": "python3",
      "display_name": "Python 3"
    },
    "language_info": {
      "name": "python"
    }
  },
  "cells": [
    {
      "cell_type": "markdown",
      "source": [
        "# 1. What is NumPy, and why is it widely used in Python?\n",
        "- NumPy (Numerical Python) is a library for numerical computing. It's fast and efficient for array operations and supports multi-dimensional arrays, broadcasting, and many mathematical functions.\n",
        "\n",
        "# 2. How does broadcasting work in NumPy?\n",
        "- Broadcasting allows NumPy to perform operations on arrays of different shapes by automatically expanding their dimensions to match.\n",
        "\n",
        "# 3. What is a Pandas DataFrame?\n",
        "- A DataFrame is a 2D labeled data structure in Pandas, similar to a table in SQL or Excel, with columns of potentially different types.\n",
        "\n",
        "# 4. Explain the use of the groupby() method in Pandas.\n",
        "- groupby() is used to split the data into groups, apply a function (like sum, mean), and combine the results.\n",
        "\n",
        "# 5. Why is Seaborn preferred for statistical visualizations?\n",
        "- Seaborn is built on Matplotlib and provides a high-level interface for drawing attractive and informative statistical graphics.\n",
        "\n",
        "# 6. What are the differences between NumPy arrays and Python lists?\n",
        "\n",
        "| **Feature**                | **NumPy Array**                                               | **Python List**                                   |\n",
        "|---------------------------|---------------------------------------------------------------|--------------------------------------------------|\n",
        "| **Data Type**             | Homogeneous (all elements are of same type)                   | Heterogeneous (can hold different data types)    |\n",
        "| **Performance**           | Faster due to optimized C backend                             | Slower due to interpreted nature                 |\n",
        "| **Memory Efficiency**     | Uses less memory                                              | More memory usage                                |\n",
        "| **Operations**            | Supports vectorized operations                                | Needs loops for element-wise operations          |\n",
        "| **Functionality**         | Has built-in mathematical and statistical functions           | Lacks advanced mathematical support              |\n",
        "| **Multidimensional Support** | Native support for multidimensional arrays                | Limited support (via nested lists)               |\n",
        "| **Broadcasting**          | Supported                                                     | Not supported                                    |\n",
        "| **Indexing and Slicing**  | Advanced slicing and masking                                  | Basic slicing only                               |\n",
        "\n",
        "\n",
        "# 7. What is a heatmap, and when should it be used?\n",
        "- A heatmap is a data visualization showing values in a matrix as colors. Use it to show correlations or intensities.\n",
        "\n",
        "# 8. What does “vectorized operation” mean in NumPy?\n",
        "- It refers to operations applied element-wise without explicit loops, making them faster and more efficient.\n",
        "\n",
        "# 9. How does Matplotlib differ from Plotly?\n",
        "\n",
        "- Matplotlib: static, 2D plotting library.\n",
        "\n",
        "- Plotly: interactive, browser-based plots with 3D and dynamic capabilities.\n",
        "\n",
        "# 10. What is the significance of hierarchical indexing in Pandas?\n",
        "- Hierarchical indexing allows you to work with multiple index levels (multi-index) in rows and/or columns, enabling more complex data representations.\n",
        "\n",
        "# 11. What is the role of Seaborn’s pairplot() function?\n",
        "- pairplot() creates a matrix of scatter plots to show relationships between all pairs of features in a dataset, useful for exploratory data analysis.\n",
        "\n",
        "# 12. What is the purpose of the describe() function in Pandas?\n",
        "- It provides summary statistics of numerical columns, including count, mean, std, min, max, and quartiles.\n",
        "\n",
        "# 13. Why is handling missing data important in Pandas?\n",
        "- Missing data can lead to incorrect results. Pandas provides functions to detect, remove, or fill missing values to ensure accurate analysis.\n",
        "\n",
        "# 14. What are the benefits of using Plotly for data visualization?\n",
        "\n",
        "- Interactivity (zoom, hover)\n",
        "\n",
        "- High-quality visuals\n",
        "\n",
        "- Support for 3D plots and dashboards\n",
        "\n",
        "- Easy integration with web apps (e.g., Dash)\n",
        "\n",
        "# 15. How does NumPy handle multidimensional arrays?\n",
        "- NumPy uses the ndarray structure to handle arrays of any shape or dimension efficiently, supporting operations like slicing, reshaping, and broadcasting.\n",
        "\n",
        "# 16. What is the role of Bokeh in data visualization?\n",
        "- Bokeh is used to create interactive and scalable visualizations for web browsers, useful for dashboards and large streaming data.\n",
        "\n",
        "# 17. Explain the difference between apply() and map() in Pandas.\n",
        "\n",
        "- map() is used on Series for element-wise operations.\n",
        "\n",
        "- apply() is used on Series or DataFrames to apply functions along an axis (rows or columns).\n",
        "\n",
        "# 18. What are some advanced features of NumPy?\n",
        "\n",
        "- Broadcasting\n",
        "\n",
        "- Universal functions (ufuncs)\n",
        "\n",
        "- Structured arrays\n",
        "\n",
        "- Memory-mapped files\n",
        "\n",
        "- Integration with C/C++\n",
        "\n",
        "# 19. How does Pandas simplify time series analysis?\n",
        "- Pandas offers built-in time/date indexing, resampling, shifting, frequency conversion, and rolling window statistics.\n",
        "\n",
        "# 20. What is the role of a pivot table in Pandas?\n",
        "- A pivot table summarizes data, reshaping it based on categories and applying aggregation functions like mean or sum.\n",
        "\n",
        "# 21. Why is NumPy’s array slicing faster than Python’s list slicing?\n",
        "- NumPy arrays are stored in contiguous memory blocks and use optimized C backend, whereas Python lists are pointers to objects.\n",
        "\n",
        "# 22. What are some common use cases for Seaborn?\n",
        "\n",
        "- Visualizing distributions (histplot, kdeplot)\n",
        "\n",
        "- Correlation matrices (heatmap)\n",
        "\n",
        "- Category comparison (boxplot, violinplot)\n",
        "\n",
        "- Pairwise relationships (pairplot, lmplot)"
      ],
      "metadata": {
        "id": "76ihv_e9AQ7_"
      }
    },
    {
      "cell_type": "code",
      "source": [
        "# 1. How do you create a 2D NumPy array and calculate the sum of each row?\n",
        "import numpy as np\n",
        "\n",
        "array_2d = np.array([[1, 2, 3], [4, 5, 6]])\n",
        "row_sums = np.sum(array_2d, axis=1)\n",
        "print(\"2D Array:\\n\", array_2d)\n",
        "print(\"Sum of each row:\", row_sums)\n"
      ],
      "metadata": {
        "id": "qlhlwsaTDK5L"
      },
      "execution_count": null,
      "outputs": []
    },
    {
      "cell_type": "code",
      "source": [
        "# 2. Write a Pandas script to find the mean of a specific column in a DataFrame\n",
        "import pandas as pd\n",
        "\n",
        "data = {'Math': [90, 80, 70, 85]}\n",
        "df = pd.DataFrame(data)\n",
        "mean_value = df['Math'].mean()\n",
        "print(\"Mean of Math column:\", mean_value)\n"
      ],
      "metadata": {
        "id": "Cn0BPFxjDbPx"
      },
      "execution_count": null,
      "outputs": []
    },
    {
      "cell_type": "code",
      "source": [
        "# 3. Create a scatter plot using Matplotlib\n",
        "import matplotlib.pyplot as plt\n",
        "\n",
        "x = [1, 2, 3, 4]\n",
        "y = [10, 20, 25, 30]\n",
        "plt.scatter(x, y)\n",
        "plt.title(\"Scatter Plot\")\n",
        "plt.xlabel(\"X-axis\")\n",
        "plt.ylabel(\"Y-axis\")\n",
        "plt.show()\n"
      ],
      "metadata": {
        "id": "txMfyGo6Df43"
      },
      "execution_count": null,
      "outputs": []
    },
    {
      "cell_type": "code",
      "source": [
        "# 4. How do you calculate the correlation matrix using Seaborn and visualize it with a heatmap?\n",
        "import seaborn as sns\n",
        "\n",
        "df = pd.DataFrame({'A': [1, 2, 3], 'B': [5, 6, 7], 'C': [8, 9, 10]})\n",
        "corr = df.corr()\n",
        "sns.heatmap(corr, annot=True, cmap='coolwarm')\n",
        "plt.title(\"Correlation Heatmap\")\n",
        "plt.show()\n"
      ],
      "metadata": {
        "id": "MX3WM95TDiGb"
      },
      "execution_count": null,
      "outputs": []
    },
    {
      "cell_type": "code",
      "source": [
        "# 5. Generate a bar plot using Plotly\n",
        "import plotly.express as px\n",
        "\n",
        "df = pd.DataFrame({'Fruit': ['Apples', 'Bananas', 'Cherries'], 'Count': [10, 15, 7]})\n",
        "fig = px.bar(df, x='Fruit', y='Count', title=\"Fruit Count\")\n",
        "fig.show()\n"
      ],
      "metadata": {
        "id": "e3eko6_5DlI2"
      },
      "execution_count": null,
      "outputs": []
    },
    {
      "cell_type": "code",
      "source": [
        "# 6. Create a DataFrame and add a new column based on an existing column\n",
        "df = pd.DataFrame({'Scores': [70, 80, 90]})\n",
        "df['Double'] = df['Scores'] * 2\n",
        "print(df)\n"
      ],
      "metadata": {
        "id": "32XV8QxlDmnM"
      },
      "execution_count": null,
      "outputs": []
    },
    {
      "cell_type": "code",
      "source": [
        "# 7. Write a program to perform element-wise multiplication of two NumPy arrays\n",
        "a = np.array([1, 2, 3])\n",
        "b = np.array([4, 5, 6])\n",
        "result = a * b\n",
        "print(\"Element-wise multiplication:\", result)\n"
      ],
      "metadata": {
        "id": "vEYrWxheDob0"
      },
      "execution_count": null,
      "outputs": []
    },
    {
      "cell_type": "code",
      "source": [
        "# 8. Create a line plot with multiple lines using Matplotlib\n",
        "x = [1, 2, 3, 4]\n",
        "y1 = [10, 20, 25, 30]\n",
        "y2 = [15, 18, 22, 27]\n",
        "plt.plot(x, y1, label='Line 1')\n",
        "plt.plot(x, y2, label='Line 2')\n",
        "plt.legend()\n",
        "plt.title(\"Multiple Line Plot\")\n",
        "plt.xlabel(\"X-axis\")\n",
        "plt.ylabel(\"Y-axis\")\n",
        "plt.show()\n"
      ],
      "metadata": {
        "id": "3RVhL0YJDpxF"
      },
      "execution_count": null,
      "outputs": []
    },
    {
      "cell_type": "code",
      "source": [
        "# 9. Generate a Pandas DataFrame and filter rows where a column value is greater than a threshold\n",
        "df = pd.DataFrame({'Value': [10, 20, 5, 30]})\n",
        "filtered_df = df[df['Value'] > 15]\n",
        "print(\"Filtered DataFrame:\\n\", filtered_df)\n"
      ],
      "metadata": {
        "id": "yMJtidYqDrmJ"
      },
      "execution_count": null,
      "outputs": []
    },
    {
      "cell_type": "code",
      "source": [
        "# 10. Create a histogram using Seaborn to visualize a distribution\n",
        "sns.histplot(data=[10, 20, 20, 30, 30, 40, 50], kde=True)\n",
        "plt.title(\"Distribution Histogram\")\n",
        "plt.show()\n"
      ],
      "metadata": {
        "id": "4H5TYy3ODs1Y"
      },
      "execution_count": null,
      "outputs": []
    },
    {
      "cell_type": "code",
      "source": [
        "# 11. Perform matrix multiplication using NumPy\n",
        "matrix1 = np.array([[1, 2], [3, 4]])\n",
        "matrix2 = np.array([[2, 0], [1, 2]])\n",
        "result = np.dot(matrix1, matrix2)\n",
        "print(\"Matrix multiplication result:\\n\", result)\n"
      ],
      "metadata": {
        "id": "QbSnIB_YDuDt"
      },
      "execution_count": null,
      "outputs": []
    },
    {
      "cell_type": "code",
      "source": [
        "# 12. Use Pandas to load a CSV file and display its first 5 rows\n",
        "# Assuming 'data.csv' is in your Colab environment\n",
        "df = pd.read_csv('data.csv')\n",
        "print(df.head())\n"
      ],
      "metadata": {
        "id": "pj0fUR2CDvxt"
      },
      "execution_count": null,
      "outputs": []
    },
    {
      "cell_type": "code",
      "source": [
        "# 13. Create a 3D scatter plot using Plotly\n",
        "import plotly.graph_objects as go\n",
        "\n",
        "fig = go.Figure(data=[go.Scatter3d(\n",
        "    x=[1, 2, 3], y=[4, 5, 6], z=[7, 8, 9],\n",
        "    mode='markers',\n",
        "    marker=dict(size=5, color='blue')\n",
        ")])\n",
        "fig.update_layout(title='3D Scatter Plot')\n",
        "fig.show()\n"
      ],
      "metadata": {
        "id": "i0rUlkmMDw42"
      },
      "execution_count": null,
      "outputs": []
    }
  ]
}